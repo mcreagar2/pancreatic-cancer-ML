{
  "nbformat": 4,
  "nbformat_minor": 0,
  "metadata": {
    "colab": {
      "provenance": []
    },
    "kernelspec": {
      "name": "python3",
      "display_name": "Python 3"
    },
    "language_info": {
      "name": "python"
    }
  },
  "cells": [
    {
      "cell_type": "markdown",
      "source": [
        "\n",
        "## For the theory behind this algorithm, see Chapter 9 in the textbook Intro to Statistical Learning\n",
        "\n",
        "We start by adding the libraries we need.\n",
        "\n",
        "Note that comments are still needed everywhere in this code, and the accuracy check is also needed."
      ],
      "metadata": {
        "id": "7II_lAqdVfWU"
      }
    },
    {
      "cell_type": "code",
      "execution_count": null,
      "metadata": {
        "id": "o1Ok6p3aT1oG",
        "colab": {
          "base_uri": "https://localhost:8080/"
        },
        "outputId": "2a5ccec2-fc74-4afb-e1b1-653658615497"
      },
      "outputs": [
        {
          "output_type": "stream",
          "name": "stdout",
          "text": [
            "Done\n"
          ]
        }
      ],
      "source": [
        "import numpy as np\n",
        "import matplotlib.pyplot as plt\n",
        "from scipy.spatial.distance import cdist\n",
        "import pandas as pd\n",
        "from sklearn.utils import shuffle\n",
        "from sklearn.model_selection import train_test_split"
      ]
    },
    {
      "cell_type": "code",
      "source": [
        "def load_data(filepath): # input argument is a string of the filepath\n",
        "    data = pd.read_csv(filepath) # pandas function for reading in the csv into a nice dataframe\n",
        "\n",
        "    # We'll use the matrix equation X b = Y. X cntains the data/'coefficients'\n",
        "    # Y contains the labels of classification\n",
        "    diagnosis = pd.get_dummies(data['diagnosis']) #This is our Y\n",
        "    data = data.drop('diagnosis', axis=1) #we want to separate it from X\n",
        "\n",
        "    id = data['sample_id']\n",
        "    data = data.drop('sample_id', axis=1)\n",
        "    #we may want to rethink if we should drop all of these. It might be easiest\n",
        "    #eventually to use the sample id for the accuracy check\n",
        "    data = data.drop('sample_origin', axis=1)\n",
        "    sex = pd.get_dummies(data['sex']) # need to make this column of M F into binary\n",
        "    data['sex'] = sex['F'] # female are 1, male are 0\n",
        "    data = data.drop('patient_cohort', axis=1)\n",
        "    data = data.drop('benign_sample_diagnosis', axis=1)\n",
        "    data = data.drop('plasma_CA19_9', axis=1)\n",
        "    data = data.drop('REG1A', axis=1)\n",
        "    data = data.drop('stage', axis = 1) #I don't think we care about the things that are dropped here\n",
        "    X = data.values\n",
        "    Y = diagnosis.values\n",
        "\n",
        "    return (X, Y)"
      ],
      "metadata": {
        "id": "0brxEoVHVyXl"
      },
      "execution_count": null,
      "outputs": []
    },
    {
      "cell_type": "markdown",
      "source": [
        "Note that this SVM code will only do binary classification. However, we can do a two-step classification.\n",
        "\n",
        "\n",
        "1.   Classify as DISEASE or CONTROL\n",
        "2.   Of those in the disease category, classify as CANCER or DISEASE\n",
        "\n"
      ],
      "metadata": {
        "id": "hIahGiQHV_WE"
      }
    },
    {
      "cell_type": "code",
      "source": [
        "# function for SVM\n",
        "def svm(x_train, y_train, numObs, numFeat, maxIter):\n",
        "\n",
        "    weights = np.zeros((numObs, numFeat))\n",
        "    weights = np.array(weights)\n",
        "\n",
        "    # these could also be parameters that we input if wanted\n",
        "    iter_count = 1\n",
        "    alpha = 0.0001\n",
        "    showTrigger = 1000\n",
        "\n",
        "    ## training the algorithm\n",
        "    while (iter_count < maxIter): # until we reach maxIter\n",
        "\n",
        "        y = weights[:,0]*x_train[:,0]\n",
        "        for i in range(1,numFeat): # we need basically a dot product between the weights and the training data\n",
        "            y = y + weights[:,i] * x_train[:,i]\n",
        "\n",
        "        y = y.reshape(numObs, 1)\n",
        "        prod = y * y_train\n",
        "        count = 0\n",
        "        if (iter_count % showTrigger) == 0:\n",
        "            print(iter_count)\n",
        "        for val in prod:\n",
        "            if (val >= 1):\n",
        "                for col in range(numFeat):\n",
        "                    weights[:,col] = weights[:,col] - alpha * (2 * 1 / iter_count * weights[:,col])\n",
        "\n",
        "            else:\n",
        "                for col in range(numFeat):\n",
        "                    weights[:,col] = weights[:,col] + alpha * (x_train[count,col] * y_train[count] - 2 * 1 / iter_count * weights[:,col])\n",
        "\n",
        "            count += 1\n",
        "        iter_count += 1\n",
        "    return weights"
      ],
      "metadata": {
        "id": "HJdKZwtPzCOt"
      },
      "execution_count": null,
      "outputs": []
    },
    {
      "cell_type": "code",
      "source": [
        "def check_accuracy(weights, x_test, y_test):\n",
        "    num_Test, num_Feat = np.shape(x_test)\n",
        "    weights = weights[0:num_Test,:]\n",
        "\n",
        "    ## Predict\n",
        "    y_pred = weights[:, 0] * x_test[:, 0]\n",
        "    for i in range(1, numFeat):\n",
        "        y_pred = y_pred + weights[:, i] * x_test[:, i]\n",
        "    predictions = []\n",
        "    for val in y_pred:\n",
        "        if (val > 0):\n",
        "            predictions.append(1)\n",
        "        else:\n",
        "            predictions.append(-1)\n",
        "\n",
        "    return predictions, y_pred"
      ],
      "metadata": {
        "id": "8aOVujq_QOgA"
      },
      "execution_count": null,
      "outputs": []
    },
    {
      "cell_type": "code",
      "source": [
        "# Driver part of the code\n",
        "maxIter = 10000\n",
        "X, Y = load_data('Debernardi_et_al_2020_data.csv')\n",
        "# we'll need to pick the right col of Y for the 2-step binary classification\n",
        "Y_cvd = Y[:,0] # this is control v. disease (selecting the first row since it will have 1 for control, 0 for everything else)\n",
        "\n",
        "for i in range(len(Y_cvd)):\n",
        "  if Y_cvd[i] == 0:\n",
        "    Y_cvd[i] = -1\n",
        "\n",
        "X, Y_cvd = shuffle(X,Y_cvd)\n",
        "\n",
        "x_train, x_test, y_train_cvd, y_test_cvd = train_test_split(X, Y_cvd, train_size=0.9)\n",
        "\n",
        "x_train = np.array(x_train)\n",
        "y_train_cvd = np.array(y_train_cvd, dtype = np.int8)\n",
        "x_test = np.array(x_test)\n",
        "y_test_cvd = np.array(y_test_cvd, dtype = np.int8)\n",
        "\n",
        "numObs = np.shape(y_train_cvd)[0]\n",
        "numFeat = np.shape(x_train)[1]\n",
        "numTest = np.shape(y_test_cvd)[0]\n",
        "\n",
        "y_train = y_train_cvd.reshape(numObs,1)\n",
        "y_test = y_test_cvd.reshape(numTest,1)\n",
        "\n",
        "weights = svm(x_train, y_train,numObs, numFeat,maxIter)\n",
        "\n"
      ],
      "metadata": {
        "id": "PZV8DJrrV4it",
        "colab": {
          "base_uri": "https://localhost:8080/"
        },
        "outputId": "369cc0e7-0b02-40b3-f99c-e9f883297437"
      },
      "execution_count": null,
      "outputs": [
        {
          "output_type": "stream",
          "name": "stdout",
          "text": [
            "1000\n",
            "2000\n",
            "3000\n",
            "4000\n",
            "5000\n",
            "6000\n",
            "7000\n",
            "8000\n",
            "9000\n"
          ]
        }
      ]
    },
    {
      "cell_type": "code",
      "source": [
        "pred, y_pred = check_accuracy(weights, x_test, y_test)"
      ],
      "metadata": {
        "id": "ikYobyQDVY6c"
      },
      "execution_count": null,
      "outputs": []
    },
    {
      "cell_type": "code",
      "source": [
        "acc_count = 0\n",
        "for i in range(len(y_test)):\n",
        "  if y_test[i][0] == pred[i]:\n",
        "    acc_count = acc_count + 1\n",
        "acc_count"
      ],
      "metadata": {
        "colab": {
          "base_uri": "https://localhost:8080/"
        },
        "id": "CFlSFApZqdfJ",
        "outputId": "e98f3eca-346f-4e5a-892f-818d2314408d"
      },
      "execution_count": null,
      "outputs": [
        {
          "output_type": "execute_result",
          "data": {
            "text/plain": [
              "45"
            ]
          },
          "metadata": {},
          "execution_count": 7
        }
      ]
    },
    {
      "cell_type": "code",
      "source": [
        "# what fraction correct?\n",
        "acc_count / len(y_test)"
      ],
      "metadata": {
        "colab": {
          "base_uri": "https://localhost:8080/"
        },
        "id": "9YhV0R5hxjQ9",
        "outputId": "8c65f2b0-d836-4abb-ef62-8ca78c5b4951"
      },
      "execution_count": null,
      "outputs": [
        {
          "output_type": "execute_result",
          "data": {
            "text/plain": [
              "0.7627118644067796"
            ]
          },
          "metadata": {},
          "execution_count": 8
        }
      ]
    },
    {
      "cell_type": "code",
      "source": [
        "# number of training points\n",
        "np.shape(x_train)"
      ],
      "metadata": {
        "colab": {
          "base_uri": "https://localhost:8080/"
        },
        "id": "Ig4MHkl9F4t4",
        "outputId": "d86ca586-d05a-4314-ae21-419a82098f48"
      },
      "execution_count": null,
      "outputs": [
        {
          "output_type": "execute_result",
          "data": {
            "text/plain": [
              "(531, 6)"
            ]
          },
          "metadata": {},
          "execution_count": 9
        }
      ]
    },
    {
      "cell_type": "code",
      "source": [
        "m = np.array(pred)\n",
        "m = m.reshape((len(m), 1))\n",
        "X_plot = np.concatenate((x_test, m), axis=1)\n",
        "X_plot = pd.DataFrame(X_plot)"
      ],
      "metadata": {
        "id": "8kzDdj-EVkBg"
      },
      "execution_count": null,
      "outputs": []
    },
    {
      "cell_type": "code",
      "source": [
        "import seaborn as sns\n",
        "\n",
        "sns.scatterplot(data=X_plot, x=X_plot[2], y=X_plot[5],hue=X_plot[6])\n",
        "plt.title('Predicted classes')\n",
        "plt.show()"
      ],
      "metadata": {
        "colab": {
          "base_uri": "https://localhost:8080/",
          "height": 295
        },
        "id": "zIDzj2kFVma4",
        "outputId": "5d0a6633-3e22-4052-e478-f0ca7dc5e151"
      },
      "execution_count": null,
      "outputs": [
        {
          "output_type": "display_data",
          "data": {
            "text/plain": [
              "<Figure size 432x288 with 1 Axes>"
            ],
            "image/png": "[encoded data removed]"
          },
          "metadata": {
            "needs_background": "light"
          }
        }
      ]
    },
    {
      "cell_type": "code",
      "source": [
        "\n",
        "X_plot2 = np.concatenate((x_test, y_test), axis=1)\n",
        "X_plot2 = pd.DataFrame(X_plot2)\n",
        "sns.scatterplot(data=X_plot2, x=X_plot2[2], y=X_plot2[5],hue=X_plot2[6])\n",
        "plt.title('True classes')\n",
        "plt.show()"
      ],
      "metadata": {
        "colab": {
          "base_uri": "https://localhost:8080/",
          "height": 295
        },
        "id": "2kEY1_XnVqcm",
        "outputId": "2cce4e9e-960c-44ff-a806-e1fb7881f948"
      },
      "execution_count": null,
      "outputs": [
        {
          "output_type": "display_data",
          "data": {
            "text/plain": [
              "<Figure size 432x288 with 1 Axes>"
            ],
            "image/png": "[encoded data removed]"
          },
          "metadata": {
            "needs_background": "light"
          }
        }
      ]
    },
    {
      "cell_type": "code",
      "source": [
        "# now we'll do disease vs cancer\n",
        "# Driver part of the code\n",
        "maxIter = 10000\n",
        "X, Y = load_data('Debernardi_et_al_2020_data.csv')\n",
        "\n",
        "# we'll need to pick the right col of Y for the 2-step binary classification\n",
        "Y_cvd = Y[:,0] # this is control v. disease (selecting the first row since it will have 1 for control, 0 for everything else)\n",
        "Y_cancer = Y[:,2]\n",
        "\n",
        "#let's drop all of the control people\n",
        "idx = np.where(Y_cvd == 1)\n",
        "idx = list(idx[0])\n",
        "Y_cancer = np.delete(Y_cancer, idx) #gets rid of all rows in the array for control\n",
        "X_copy = pd.DataFrame(X)\n",
        "X_cancer = X_copy.drop(index=idx) # same for observations\n",
        "X_cancer = np.array(X_cancer)\n"
      ],
      "metadata": {
        "id": "JXnMf0pzlYUM"
      },
      "execution_count": null,
      "outputs": []
    },
    {
      "cell_type": "code",
      "source": [
        "for i in range(len(Y_cancer)):\n",
        "  if Y_cancer[i] == 0:\n",
        "    Y_cancer[i] = -1 # -1 stands for disease\n",
        "\n",
        "X_cancer, Y_cancer = shuffle(X_cancer,Y_cancer)\n",
        "\n",
        "x_train_cancer, x_test_cancer, y_train_cancer, y_test_cancer = train_test_split(X_cancer, Y_cancer, train_size=0.9)\n",
        "\n",
        "x_train_cancer = np.array(x_train_cancer)\n",
        "y_train_cancer = np.array(y_train_cancer, dtype = np.int8)\n",
        "x_test_cancer = np.array(x_test_cancer)\n",
        "y_test_cancer = np.array(y_test_cancer, dtype = np.int8)\n",
        "\n",
        "numObs = np.shape(y_train_cancer)[0]\n",
        "numFeat = np.shape(x_train_cancer)[1]\n",
        "numTest = np.shape(y_test_cancer)[0]\n",
        "\n",
        "y_train_cancer = y_train_cancer.reshape(numObs,1)\n",
        "y_test_cancer = y_test_cancer.reshape(numTest,1)\n",
        "\n",
        "weights_cancer = svm(x_train_cancer, y_train_cancer,numObs, numFeat,maxIter)"
      ],
      "metadata": {
        "colab": {
          "base_uri": "https://localhost:8080/"
        },
        "id": "6Z41ea0xiQ6w",
        "outputId": "d241721a-4458-4edc-dbb5-d61db305cc1c"
      },
      "execution_count": null,
      "outputs": [
        {
          "output_type": "stream",
          "name": "stdout",
          "text": [
            "1000\n",
            "2000\n",
            "3000\n",
            "4000\n",
            "5000\n",
            "6000\n",
            "7000\n",
            "8000\n",
            "9000\n"
          ]
        }
      ]
    },
    {
      "cell_type": "code",
      "source": [
        "pred_cancer, y_pred_cancer = check_accuracy(weights_cancer, x_test_cancer, y_test_cancer)\n",
        "acc_count = 0\n",
        "for i in range(len(y_test_cancer)):\n",
        "  if y_test_cancer[i][0] == pred_cancer[i]:\n",
        "    acc_count = acc_count + 1\n",
        "acc_count"
      ],
      "metadata": {
        "colab": {
          "base_uri": "https://localhost:8080/"
        },
        "id": "UZDHfGRqoBKv",
        "outputId": "9434dbb1-e3fd-44ba-a514-beab7372f3dd"
      },
      "execution_count": null,
      "outputs": [
        {
          "output_type": "execute_result",
          "data": {
            "text/plain": [
              "25"
            ]
          },
          "metadata": {},
          "execution_count": 180
        }
      ]
    },
    {
      "cell_type": "code",
      "source": [
        "# what fraction correct?\n",
        "acc_count / len(y_test_cancer)"
      ],
      "metadata": {
        "colab": {
          "base_uri": "https://localhost:8080/"
        },
        "id": "AtfQ9KrFVF9K",
        "outputId": "ff866dd2-0767-4297-ecc7-06e98d86a8c6"
      },
      "execution_count": null,
      "outputs": [
        {
          "output_type": "execute_result",
          "data": {
            "text/plain": [
              "0.6097560975609756"
            ]
          },
          "metadata": {},
          "execution_count": 181
        }
      ]
    },
    {
      "cell_type": "code",
      "source": [
        "# number of training points used\n",
        "np.shape(x_train_cancer)"
      ],
      "metadata": {
        "colab": {
          "base_uri": "https://localhost:8080/"
        },
        "id": "qpjEvcvmGaI3",
        "outputId": "d8283898-f4b2-400d-ac8a-a57d6e423c85"
      },
      "execution_count": null,
      "outputs": [
        {
          "output_type": "execute_result",
          "data": {
            "text/plain": [
              "(366, 6)"
            ]
          },
          "metadata": {},
          "execution_count": 182
        }
      ]
    },
    {
      "cell_type": "code",
      "source": [
        "pred_cancer = np.array(pred_cancer)\n",
        "m = pred_cancer.reshape(len(pred_cancer),1)\n",
        "X_plot = np.concatenate((x_test_cancer, m), axis=1)\n",
        "X_plot = pd.DataFrame(X_plot)\n"
      ],
      "metadata": {
        "id": "PtGPqiZKAJIP"
      },
      "execution_count": null,
      "outputs": []
    },
    {
      "cell_type": "code",
      "source": [
        "import seaborn as sns\n",
        "\n",
        "sns.scatterplot(data=X_plot, x=X_plot[0], y=X_plot[5],hue=X_plot[6])\n",
        "plt.title('Predicted classes, cancer vs. disease')\n",
        "plt.show()"
      ],
      "metadata": {
        "colab": {
          "base_uri": "https://localhost:8080/",
          "height": 295
        },
        "id": "_IUVANL7_9jY",
        "outputId": "5341c8cb-c7de-4902-88fe-cdfda0c97ffa"
      },
      "execution_count": null,
      "outputs": [
        {
          "output_type": "display_data",
          "data": {
            "text/plain": [
              "<Figure size 432x288 with 1 Axes>"
            ],
            "image/png": "[encoded data removed]"
          },
          "metadata": {
            "needs_background": "light"
          }
        }
      ]
    },
    {
      "cell_type": "code",
      "source": [
        "\n",
        "X_plot2 = np.concatenate((x_test_cancer, y_test_cancer), axis=1)\n",
        "X_plot2 = pd.DataFrame(X_plot2)\n",
        "sns.scatterplot(data=X_plot2, x=X_plot2[0], y=X_plot2[5],hue=X_plot2[6])\n",
        "plt.title('True classes, cancer vs. disease')\n",
        "plt.show()"
      ],
      "metadata": {
        "colab": {
          "base_uri": "https://localhost:8080/",
          "height": 295
        },
        "id": "bSkVeD4ZUrZG",
        "outputId": "f5dd8deb-c7da-4be4-b935-53ea9a77f13b"
      },
      "execution_count": null,
      "outputs": [
        {
          "output_type": "display_data",
          "data": {
            "text/plain": [
              "<Figure size 432x288 with 1 Axes>"
            ],
            "image/png": "[encoded data removed]"
          },
          "metadata": {
            "needs_background": "light"
          }
        }
      ]
    }
  ]
}