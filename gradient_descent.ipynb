{
  "nbformat": 4,
  "nbformat_minor": 0,
  "metadata": {
    "colab": {
      "provenance": []
    },
    "kernelspec": {
      "name": "python3",
      "display_name": "Python 3"
    },
    "language_info": {
      "name": "python"
    }
  },
  "cells": [
    {
      "cell_type": "markdown",
      "source": [
        "\n",
        "## For the theory behind this algorithm, see Chapter 4 in the textbook Intro to Statistical Learning by James et al.\n",
        "\n",
        "We start by adding the import statements for libraries we'll need.\n",
        "\n",
        "Note that this is using logistic gradient descent since we're doing classification.\n",
        "\n",
        "Also note that we took the logarithm of the TFF1 variable for the calculations, so that needs to be accounted for and checked for validity"
      ],
      "metadata": {
        "id": "fuvnqSa4Uj3z"
      }
    },
    {
      "cell_type": "code",
      "execution_count": null,
      "metadata": {
        "id": "6KWB0CjdT-iR",
        "colab": {
          "base_uri": "https://localhost:8080/"
        },
        "outputId": "ec9100da-e217-48b6-920e-617dab99afb8"
      },
      "outputs": [
        {
          "output_type": "stream",
          "name": "stdout",
          "text": [
            "Mounted at /content/drive\n"
          ]
        }
      ],
      "source": [
        "import numpy as np\n",
        "import matplotlib.pyplot as plt\n",
        "import sklearn as sk\n",
        "import sklearn.model_selection\n",
        "import pandas as pd"
      ]
    },
    {
      "cell_type": "code",
      "source": [
        "def load_data(filepath): # input argument is a string of the filepath\n",
        "    data = pd.read_csv(filepath) # pandas function for reading in the csv into a nice dataframe\n",
        "\n",
        "    # We'll use the matrix equation X b = Y. X contains the data/'coefficients'\n",
        "    # Y contains the labels of classification\n",
        "    diagnosis = pd.get_dummies(data['diagnosis']) #This is our Y vals\n",
        "    data = data.drop('diagnosis', axis=1) #we want to separate it from X\n",
        "\n",
        "    id = data['sample_id']\n",
        "    data = data.drop('sample_id', axis=1)\n",
        "    #we may want to rethink if we should drop all of these. It might be easiest\n",
        "    #eventually to use the sample id for the accuracy check\n",
        "    data = data.drop('sample_origin', axis=1)\n",
        "    sex = pd.get_dummies(data['sex']) # need to make this column of M F into binary\n",
        "    data['sex'] = sex['F'] # female are 1, male are 0\n",
        "    data = data.drop('patient_cohort', axis=1)\n",
        "    data = data.drop('benign_sample_diagnosis', axis=1)\n",
        "    data = data.drop('plasma_CA19_9', axis=1)\n",
        "    data = data.drop('REG1A', axis=1)\n",
        "    data = data.drop('stage', axis = 1) #I don't think we care about the things that are dropped here\n",
        "    data['TFF1'] = np.log(data['TFF1'])\n",
        "    X = data.values\n",
        "    Y = diagnosis.values\n",
        "    numExamples = X.shape[0]\n",
        "    allOnes = np.ones((numExamples, 1))\n",
        "    X = np.concatenate((X, allOnes), axis=1)\n",
        "    # Since this function is general enough to be used for any ML algorithm, we\n",
        "    # append a column of 1s onto the end of X to be the coefficients for any constant terms\n",
        "    # i.e., in least squares, we need a column of 1s\n",
        "\n",
        "    return (X, Y)"
      ],
      "metadata": {
        "id": "lWbotvlMUs7T"
      },
      "execution_count": null,
      "outputs": []
    },
    {
      "cell_type": "code",
      "source": [
        "# Evaluate the optimization problem at this point\n",
        "def evalF(beta, X, Y):\n",
        "    numEx, numFeat = X.shape\n",
        "    numEx, numClass = Y.shape\n",
        "    dots = np.matmul(X, beta)\n",
        "    dots = np.array(dots, dtype = np.float128)\n",
        "    numers = np.exp(dots)\n",
        "    denoms = np.sum(numers, axis = 1)\n",
        "    denoms = np.reshape(denoms, (numEx, 1))\n",
        "    denoms = np.tile(denoms, (1, numClass))\n",
        "    p = numers/denoms\n",
        "    logp = np.log(p)\n",
        "    Ylogp = Y*logp\n",
        "    return -np.sum(Ylogp)"
      ],
      "metadata": {
        "id": "C9w0EzT8hl3z"
      },
      "execution_count": null,
      "outputs": []
    },
    {
      "cell_type": "code",
      "source": [
        "# calculate the gradient at this point\n",
        "def evalGrad(beta, X, Y):\n",
        "    numEx, numFeat = X.shape\n",
        "    numEx, numClass = Y.shape\n",
        "    dots = np.matmul(X, beta)\n",
        "    numers = np.exp(dots)\n",
        "    denoms = np.sum(numers, axis = 1)\n",
        "    denoms = np.reshape(denoms, (numEx, 1))\n",
        "    denoms = np.tile(denoms, (1, numClass))\n",
        "    p = numers/denoms\n",
        "    grad = np.matmul(X.T, (p-Y))\n",
        "    return grad"
      ],
      "metadata": {
        "id": "6OrNrIvnhpfD"
      },
      "execution_count": null,
      "outputs": []
    },
    {
      "cell_type": "code",
      "source": [
        "# Main function\n",
        "def multilogReg(t, X, Y):\n",
        "    numEx, numFeat = X.shape\n",
        "    numEx, numClass = Y.shape\n",
        "    maxIter = 50000\n",
        "    showTrigger = 10000\n",
        "    costs = np.zeros(maxIter+1)\n",
        "    beta=np.zeros((numFeat, numClass))\n",
        "    for i in range(maxIter+1):\n",
        "        grad = evalGrad(beta, X, Y)\n",
        "        beta = beta - t * grad\n",
        "        cost = evalF(beta, X, Y)\n",
        "        costs[i] = cost\n",
        "        if i % showTrigger == 0:\n",
        "            print(\"Iteration \", i, \"; Cost: \", cost)\n",
        "\n",
        "    return (beta, costs)"
      ],
      "metadata": {
        "id": "6yJqjqDdhx0M"
      },
      "execution_count": null,
      "outputs": []
    },
    {
      "cell_type": "code",
      "source": [
        "# Driver part of the code\n",
        "X, Y = load_data('Debernardi_et_al_2020_data.csv')\n",
        "\n",
        "X_test, X_train, Y_test, Y_train = sk.model_selection.train_test_split(X, Y, test_size = 0.5)\n",
        "\n",
        "beta, costs = multilogReg(0.0000001, X_train, Y_train)\n",
        "yhat = np.matmul(X_test, beta)"
      ],
      "metadata": {
        "id": "EIodDmseU5jw",
        "colab": {
          "base_uri": "https://localhost:8080/"
        },
        "outputId": "9afbb0fb-d35a-436b-8677-912583b14b0c"
      },
      "execution_count": null,
      "outputs": [
        {
          "output_type": "stream",
          "name": "stdout",
          "text": [
            "Iteration  0 ; Cost:  310.08142313730568768\n",
            "Iteration  10000 ; Cost:  272.2904836932410737\n",
            "Iteration  20000 ; Cost:  266.41543043056432077\n",
            "Iteration  30000 ; Cost:  263.83691892727492165\n",
            "Iteration  40000 ; Cost:  262.320935745505091\n",
            "Iteration  50000 ; Cost:  261.2667048107695173\n"
          ]
        }
      ]
    },
    {
      "cell_type": "code",
      "source": [
        "# Calculate the accuracy of our classification\n",
        "\n",
        "truth = np.argmax(Y_test,axis = 1)\n",
        "Predictions = np.argmax(yhat, axis = 1)\n",
        "wrong = np.where(Predictions != truth)[0]\n",
        "k = float(len(wrong))\n",
        "tot = len(Y_test)\n",
        "fracWrong = k/tot\n",
        "fracRight = 1 - fracWrong\n",
        "\n",
        "print(\"Fraction Classified Incorrectly: \", fracWrong, \\\n",
        "      \" Fraction Classified Correctly: \", fracRight )\n",
        "n=len(costs)\n",
        "idx = np.zeros(n)\n",
        "idx = [(i + 1) for i in range(n)]\n",
        "plt.figure()\n",
        "plt.semilogy(idx, costs)\n",
        "plt.xlabel('Iteration number')\n",
        "plt.ylabel('Loss')\n",
        "plt.show()"
      ],
      "metadata": {
        "id": "KTLFR5MFh9IE",
        "colab": {
          "base_uri": "https://localhost:8080/",
          "height": 298
        },
        "outputId": "22a91e75-02e3-4d8c-e09e-7e19e2041f52"
      },
      "execution_count": null,
      "outputs": [
        {
          "output_type": "stream",
          "name": "stdout",
          "text": [
            "Fraction Classified Incorrectly:  0.4576271186440678  Fraction Classified Correctly:  0.5423728813559322\n"
          ]
        },
        {
          "output_type": "display_data",
          "data": {
            "text/plain": [
              "<Figure size 432x288 with 1 Axes>"
            ],
            "image/png": "[encoded data removed]"
          },
          "metadata": {
            "needs_background": "light"
          }
        }
      ]
    }
  ]
}