{
  "nbformat": 4,
  "nbformat_minor": 0,
  "metadata": {
    "colab": {
      "provenance": []
    },
    "kernelspec": {
      "name": "python3",
      "display_name": "Python 3"
    },
    "language_info": {
      "name": "python"
    }
  },
  "cells": [
    {
      "cell_type": "markdown",
      "source": [
        "## The theory part of this algorithm can be found in section 10.3 in An Introduction to Statistical Learning by James et al."
      ],
      "metadata": {
        "id": "khiS87FTvWP9"
      }
    },
    {
      "cell_type": "code",
      "execution_count": null,
      "metadata": {
        "colab": {
          "base_uri": "https://localhost:8080/"
        },
        "id": "GC7a2f_Os6C_",
        "outputId": "e79bac67-8545-405b-ca37-8aac0800ebe7"
      },
      "outputs": [
        {
          "output_type": "stream",
          "name": "stdout",
          "text": [
            "Done\n"
          ]
        }
      ],
      "source": [
        "# importing necessary libraries\n",
        "import numpy as np\n",
        "import matplotlib.pyplot as plt\n",
        "from scipy.spatial.distance import cdist\n",
        "import pandas as pd"
      ]
    },
    {
      "cell_type": "markdown",
      "source": [
        "Here's a function for reading in the data."
      ],
      "metadata": {
        "id": "rbf2gYWnvV0n"
      }
    },
    {
      "cell_type": "code",
      "source": [
        "def load_data(filepath): # input argument is a string of the filepath\n",
        "    data = pd.read_csv(filepath) # pandas function for reading in the csv into a nice dataframe\n",
        "\n",
        "    # We'll use the matrix equation X b = Y. X cntains the data/'coefficients'\n",
        "    # Y contains the labels of classification\n",
        "    diagnosis = data['diagnosis'] #This is our Y\n",
        "    data = data.drop('diagnosis', axis=1) #we want to separate it from X\n",
        "\n",
        "    id = data['sample_id']\n",
        "    data = data.drop('sample_id', axis=1)\n",
        "    #we may want to rethink if we should drop all of these. It might be easiest\n",
        "    #eventually to use the sample id for the accuracy check\n",
        "    data = data.drop('sample_origin', axis=1)\n",
        "    sex = pd.get_dummies(data['sex']) # need to make this column of M F into binary\n",
        "    data['sex'] = sex['F'] # female are 1, male are 0\n",
        "    data = data.drop('patient_cohort', axis=1)\n",
        "    data = data.drop('benign_sample_diagnosis', axis=1)\n",
        "    data = data.drop('plasma_CA19_9', axis=1)\n",
        "    data = data.drop('REG1A', axis=1)\n",
        "    data = data.drop('stage', axis = 1) #I don't think we care about the things that are dropped here\n",
        "    X = data.values\n",
        "    Y = diagnosis.values\n",
        "    numExamples = X.shape[0]\n",
        "    allOnes = np.ones((numExamples, 1))\n",
        "    X = np.concatenate((X, allOnes), axis=1)\n",
        "    # Since this function is general enough to be used for any ML algorithm, we\n",
        "    # append a column of 1s onto the end of X to be the coefficients for any constant terms\n",
        "    # i.e., in least squares, we need a column of 1s\n",
        "\n",
        "    return (X, Y)"
      ],
      "metadata": {
        "id": "onxBoJp-tJ6F"
      },
      "execution_count": null,
      "outputs": []
    },
    {
      "cell_type": "markdown",
      "source": [
        "The next function contains the actual k-Means code."
      ],
      "metadata": {
        "id": "vWBdGTaBxzyy"
      }
    },
    {
      "cell_type": "code",
      "source": [
        "def kMeans(X, numClusters, maxIter):\n",
        "    numClusters = int(numClusters) #get the number of clusters as an integer\n",
        "    idx = np.random.choice(len(X), numClusters, replace=False) #pick 3 random points to serve\n",
        "                                                                #as center of the clusters\n",
        "\n",
        "    clusters = X[idx, :] #get the data values associated with these indices\n",
        "    distances = cdist(X, clusters, 'euclidean') #calculate the distances between each row of X and each \"cluster center\"\n",
        "\n",
        "    # for each row in X, assign it a label of species according to which cluster center it is closest to\n",
        "    cluster_assignment = np.array([np.argmin(i) for i in distances])\n",
        "\n",
        "    for it in range(maxIter): ## now, repeat this process for maxIter\n",
        "        clusters = []\n",
        "        for i in range(numClusters):\n",
        "            vals = X[cluster_assignment == i,:].mean(axis=0)\n",
        "            clusters.append(vals)\n",
        "\n",
        "        clusters = np.vstack(clusters)\n",
        "\n",
        "        distances = cdist(X, clusters, 'euclidean')\n",
        "        cluster_assignment = np.array([np.argmin(i) for i in distances])\n",
        "\n",
        "    return cluster_assignment, distances #return the final assignments"
      ],
      "metadata": {
        "id": "GRB9kXlLwK6U"
      },
      "execution_count": null,
      "outputs": []
    },
    {
      "cell_type": "markdown",
      "source": [
        "Finally, this last part is what acually makes the code run."
      ],
      "metadata": {
        "id": "RelKAQ9ayA68"
      }
    },
    {
      "cell_type": "code",
      "source": [
        "#This is the 'driver' part of the code\n",
        "maxIter = 1000\n",
        "numClusters = 3\n",
        "X, Y = load_data('Debernardi_et_al_2020_data.csv')\n",
        "#Y = np.argmax(Y, axis=1)\n",
        "X = X[:, 0:6] # drop the last column - we don't need it\n",
        "\n",
        "ones = np.ones(len(Y))\n",
        "Y = Y - ones\n",
        "c,d = kMeans(X, numClusters, maxIter)"
      ],
      "metadata": {
        "id": "o1YmGBXAwKTB"
      },
      "execution_count": null,
      "outputs": []
    },
    {
      "cell_type": "code",
      "source": [
        "d"
      ],
      "metadata": {
        "id": "hsXDn1RPGZ_5",
        "outputId": "0cb22726-5882-4465-91c4-a7a702ad8126",
        "colab": {
          "base_uri": "https://localhost:8080/"
        }
      },
      "execution_count": null,
      "outputs": [
        {
          "output_type": "execute_result",
          "data": {
            "text/plain": [
              "array([[2901.92619283,  494.17410933,  393.03263881],\n",
              "       [3334.8910813 ,   73.17365763,  820.75218528],\n",
              "       [3084.65303363,  305.8050608 ,  569.79649399],\n",
              "       ...,\n",
              "       [2987.11183777,  448.92151758,  501.19724417],\n",
              "       [2811.68929463,  584.56496933,  304.85618971],\n",
              "       [1498.11128975, 1896.41343613, 1022.78327675]])"
            ]
          },
          "metadata": {},
          "execution_count": 160
        }
      ]
    },
    {
      "cell_type": "code",
      "source": [
        "c"
      ],
      "metadata": {
        "id": "F3zNDPpBGyDd",
        "colab": {
          "base_uri": "https://localhost:8080/"
        },
        "outputId": "1fdae59b-2ef0-4265-ba4d-f919b3605a32"
      },
      "execution_count": null,
      "outputs": [
        {
          "output_type": "execute_result",
          "data": {
            "text/plain": [
              "array([2, 1, 1, 1, 1, 1, 1, 1, 1, 1, 1, 2, 1, 2, 1, 1, 1, 1, 1, 1, 1, 1,\n",
              "       1, 1, 1, 1, 1, 1, 1, 1, 1, 2, 1, 1, 1, 2, 1, 1, 1, 1, 1, 1, 2, 2,\n",
              "       1, 1, 1, 1, 1, 1, 1, 1, 1, 1, 1, 1, 1, 1, 1, 1, 1, 1, 1, 1, 1, 1,\n",
              "       1, 1, 1, 1, 1, 1, 1, 1, 1, 1, 1, 1, 1, 1, 1, 1, 1, 1, 1, 1, 1, 1,\n",
              "       1, 1, 1, 1, 1, 1, 1, 1, 1, 1, 1, 1, 2, 1, 1, 1, 1, 1, 1, 1, 1, 1,\n",
              "       1, 1, 1, 1, 1, 1, 1, 1, 1, 1, 1, 1, 1, 1, 1, 1, 1, 1, 1, 1, 1, 1,\n",
              "       1, 2, 2, 1, 1, 1, 1, 1, 1, 1, 1, 1, 2, 1, 1, 1, 1, 1, 1, 1, 1, 1,\n",
              "       1, 1, 1, 1, 1, 1, 1, 1, 2, 1, 1, 1, 1, 1, 1, 1, 1, 1, 1, 1, 1, 1,\n",
              "       1, 1, 1, 1, 1, 1, 1, 1, 1, 1, 1, 1, 1, 2, 1, 1, 1, 1, 1, 1, 1, 1,\n",
              "       1, 1, 2, 1, 2, 2, 1, 1, 1, 2, 1, 1, 0, 1, 1, 2, 2, 1, 1, 2, 1, 1,\n",
              "       1, 1, 1, 1, 1, 1, 1, 1, 1, 1, 2, 1, 1, 1, 1, 1, 1, 1, 2, 1, 1, 1,\n",
              "       1, 1, 1, 1, 1, 1, 1, 1, 1, 1, 1, 1, 2, 2, 1, 0, 1, 1, 1, 1, 2, 2,\n",
              "       2, 1, 1, 2, 1, 1, 2, 2, 1, 1, 2, 1, 1, 2, 1, 1, 1, 2, 1, 2, 2, 2,\n",
              "       1, 1, 2, 2, 1, 2, 1, 1, 2, 1, 1, 2, 2, 2, 1, 1, 1, 1, 1, 1, 1, 1,\n",
              "       1, 1, 2, 1, 1, 0, 1, 1, 1, 0, 2, 2, 1, 2, 2, 1, 1, 1, 2, 2, 1, 2,\n",
              "       1, 2, 1, 1, 2, 2, 2, 1, 2, 2, 1, 2, 1, 1, 1, 0, 1, 1, 1, 2, 1, 2,\n",
              "       1, 1, 1, 1, 1, 1, 1, 1, 1, 1, 2, 1, 2, 2, 1, 1, 1, 1, 1, 1, 1, 1,\n",
              "       1, 1, 1, 1, 1, 1, 2, 1, 1, 2, 1, 1, 1, 1, 1, 1, 1, 2, 1, 1, 1, 2,\n",
              "       1, 1, 1, 2, 1, 2, 1, 2, 2, 1, 1, 2, 2, 2, 0, 2, 1, 0, 0, 1, 1, 2,\n",
              "       1, 2, 2, 0, 0, 1, 2, 1, 0, 2, 0, 1, 1, 2, 2, 1, 2, 1, 0, 1, 1, 0,\n",
              "       1, 2, 2, 2, 0, 1, 2, 1, 1, 2, 2, 2, 2, 2, 2, 1, 2, 1, 2, 1, 2, 1,\n",
              "       2, 2, 1, 1, 2, 2, 1, 1, 2, 1, 2, 2, 2, 1, 1, 2, 1, 0, 1, 1, 1, 1,\n",
              "       0, 2, 1, 0, 1, 1, 2, 1, 1, 1, 0, 1, 1, 2, 0, 2, 2, 2, 0, 2, 2, 1,\n",
              "       1, 2, 2, 2, 0, 0, 0, 1, 1, 1, 2, 1, 2, 1, 2, 2, 0, 2, 2, 1, 2, 2,\n",
              "       2, 2, 0, 2, 1, 0, 1, 1, 1, 2, 1, 1, 2, 2, 2, 2, 2, 2, 1, 0, 1, 2,\n",
              "       1, 2, 1, 1, 0, 1, 1, 1, 0, 1, 1, 2, 1, 2, 2, 1, 0, 2, 2, 0, 1, 0,\n",
              "       1, 0, 0, 2, 0, 1, 0, 1, 0, 2, 2, 2, 0, 1, 1, 1, 2, 2])"
            ]
          },
          "metadata": {},
          "execution_count": 161
        }
      ]
    },
    {
      "cell_type": "code",
      "source": [
        "dist_Vals = np.array([np.min(i) for i in d])\n",
        "\n",
        "val_for_table = np.sum(dist_Vals)\n",
        "val_for_table"
      ],
      "metadata": {
        "colab": {
          "base_uri": "https://localhost:8080/"
        },
        "id": "qQZzoUtJI2k6",
        "outputId": "fcfa37ed-2c3c-4aff-dd86-32e101b3a1ec"
      },
      "execution_count": null,
      "outputs": [
        {
          "output_type": "execute_result",
          "data": {
            "text/plain": [
              "156435.2807123356"
            ]
          },
          "metadata": {},
          "execution_count": 162
        }
      ]
    },
    {
      "cell_type": "markdown",
      "source": [
        "We'll use two different techniques to examine how good our clustering is.\n",
        "\n",
        "\n",
        "First, we'll use visuals (plots of the cluster assignment and cluster center) to check how nicely separated the clusters are. Example code given below.\n",
        "\n",
        "\n",
        "Second, we'll run the algorithm a few times (maybe 6?) and use the cluster assignment for which the objective function (10.11 in book) is smallest. You can use a loop for this. The results of each run of the algorithm should go in a table, as well as a figure with the points and cluster centers for the best run/result"
      ],
      "metadata": {
        "id": "OSwbfnyiHALP"
      }
    },
    {
      "cell_type": "code",
      "source": [
        "m = c.reshape(len(c),1)\n",
        "X = np.concatenate((X, m), axis=1)\n",
        "X = pd.DataFrame(X)"
      ],
      "metadata": {
        "id": "XPY63ludMZGC"
      },
      "execution_count": null,
      "outputs": []
    },
    {
      "cell_type": "code",
      "source": [
        "# Plotting and color-coding\n",
        "\n",
        "import seaborn as sns\n",
        "\n",
        "sns.scatterplot(data=X, x=X[0], y=X[5],hue=X[6])\n",
        "plt.show()"
      ],
      "metadata": {
        "colab": {
          "base_uri": "https://localhost:8080/",
          "height": 283
        },
        "id": "Zu5F3s5TJWoy",
        "outputId": "8336e0bb-ccda-4a86-c0b5-5a1d665747ad"
      },
      "execution_count": null,
      "outputs": [
        {
          "output_type": "display_data",
          "data": {
            "text/plain": [
              "<Figure size 432x288 with 1 Axes>"
            ],
            "image/png": "[encoded data removed]"
          },
          "metadata": {
            "needs_background": "light"
          }
        }
      ]
    }
  ]
}